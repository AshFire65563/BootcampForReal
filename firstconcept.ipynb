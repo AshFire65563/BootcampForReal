{
  "nbformat": 4,
  "nbformat_minor": 0,
  "metadata": {
    "colab": {
      "provenance": [],
      "collapsed_sections": [],
      "authorship_tag": "ABX9TyPYUee/J3+hvqXTgLfL1wmq",
      "include_colab_link": true
    },
    "kernelspec": {
      "name": "python3",
      "display_name": "Python 3"
    },
    "language_info": {
      "name": "python"
    }
  },
  "cells": [
    {
      "cell_type": "markdown",
      "metadata": {
        "id": "view-in-github",
        "colab_type": "text"
      },
      "source": [
        "<a href=\"https://colab.research.google.com/github/AshFire65563/BootcampForReal/blob/main/firstconcept.ipynb\" target=\"_parent\"><img src=\"https://colab.research.google.com/assets/colab-badge.svg\" alt=\"Open In Colab\"/></a>"
      ]
    },
    {
      "cell_type": "markdown",
      "source": [
        "# First Concept Program\n",
        "This is a test program to show how colab works. Pretty neat right?"
      ],
      "metadata": {
        "id": "sEFX6do9Q4AV"
      }
    },
    {
      "cell_type": "code",
      "execution_count": 1,
      "metadata": {
        "colab": {
          "base_uri": "https://localhost:8080/"
        },
        "id": "vTB2tqIcPL6q",
        "outputId": "7a8762fc-35a0-45b6-f56e-f2c53269f1c8"
      },
      "outputs": [
        {
          "output_type": "execute_result",
          "data": {
            "text/plain": [
              "49.0"
            ]
          },
          "metadata": {},
          "execution_count": 1
        }
      ],
      "source": [
        "a=27\n",
        "b=85\n",
        "c=35\n",
        "(a+b+c)/3"
      ]
    },
    {
      "cell_type": "code",
      "source": [],
      "metadata": {
        "id": "4LfyKdjgRO1q"
      },
      "execution_count": null,
      "outputs": []
    }
  ]
}