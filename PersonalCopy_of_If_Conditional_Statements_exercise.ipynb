{
  "nbformat": 4,
  "nbformat_minor": 0,
  "metadata": {
    "colab": {
      "provenance": [],
      "collapsed_sections": [],
      "include_colab_link": true
    },
    "kernelspec": {
      "name": "python3",
      "display_name": "Python 3"
    }
  },
  "cells": [
    {
      "cell_type": "markdown",
      "metadata": {
        "id": "view-in-github",
        "colab_type": "text"
      },
      "source": [
        "<a href=\"https://colab.research.google.com/github/AshFire65563/BootcampForReal/blob/main/PersonalCopy_of_If_Conditional_Statements_exercise.ipynb\" target=\"_parent\"><img src=\"https://colab.research.google.com/assets/colab-badge.svg\" alt=\"Open In Colab\"/></a>"
      ]
    },
    {
      "cell_type": "markdown",
      "metadata": {
        "id": "9hgp2Z3FztJ6"
      },
      "source": [
        "# *Permission to copy this copyrighted document is given only to Mobi Boot Camp Corp., students*\n",
        "\n",
        "---\n",
        "<!-- &#169; 2021, Mobi Boot Camp Corp, all rights reserved  -->\n",
        "# Please Copy this file by selecting 'File-->Save a Copy in Drive' from the top menu bar, and then start working on these problems. You cannot edit this file as it is a READ-ONLY file. \n",
        "\n",
        "###When you make a copy, you will be able to run the copied file through your account. You can also code your answers in the respective code cells and run the program\n",
        "\n",
        "---\n",
        "#If Conditional Statements\n",
        "Solve the below problems. \n",
        "\n",
        "\n",
        "# Problem 1\n",
        "\n",
        "Write a program that accepts an integer value from the user and prints out if the given number is a multiple of 7. If the given number is a multiple of 7 then it prints out, \"You gave a multiple of 7\" else, it prints out the remainder when you divide the given number by 7"
      ]
    },
    {
      "cell_type": "code",
      "metadata": {
        "id": "MGSvCg0RrRaL",
        "colab": {
          "base_uri": "https://localhost:8080/"
        },
        "outputId": "79bea30e-e603-402a-dbfc-40ecc18a55c9"
      },
      "source": [
        "# Your program goes here\n",
        "x = int(input('Enter a number: '))\n",
        "\n",
        "\n",
        "if x % 7 == 0:\n",
        "    print('You gave a multiple of 7!')\n",
        "else:\n",
        "    print(x % 7)"
      ],
      "execution_count": 19,
      "outputs": [
        {
          "output_type": "stream",
          "name": "stdout",
          "text": [
            "Enter a number: 84\n",
            "You gave a multiple of 7!\n"
          ]
        }
      ]
    },
    {
      "cell_type": "markdown",
      "metadata": {
        "id": "MvnbWG5Z7vEx"
      },
      "source": [
        "# Problem 2 (Chapter 1A revision)\n",
        "\n",
        "Write a program to solve quadratic equations. Receive the values for a, b and c from the user input. \n",
        "This problem may not need an if-construct\n",
        "Hint: Use the Math module"
      ]
    },
    {
      "cell_type": "code",
      "metadata": {
        "id": "96kEoHZb8BeT",
        "colab": {
          "base_uri": "https://localhost:8080/"
        },
        "outputId": "93e3c505-b9b1-44b2-c261-1a94c0d06d1b"
      },
      "source": [
        "# Your program goes here\n",
        "# Solve the quadratic equation ax**2 + bx + c = 0\n",
        "\n",
        "a = int(input('Please type in a number\\n' ))\n",
        "b = int(input('Please type in second number\\n' ))\n",
        "c = int(input('Please type in a third and final number\\n' ))\n",
        "print(a,b,c)\n",
        "print('Lets input this into the Quadratic Equation and see the results!')\n",
        "import cmath\n",
        "# calculating  the discriminant\n",
        "dis = (b**2) - (4 * a*c)\n",
        "  \n",
        "# find two results\n",
        "root1 = (-b-cmath.sqrt(dis))/(2 * a)\n",
        "root2 = (-b + cmath.sqrt(dis))/(2 * a)\n",
        "  \n",
        "# printing the results\n",
        "print('The roots are')\n",
        "print(root1)\n",
        "print(root2)\n"
      ],
      "execution_count": 24,
      "outputs": [
        {
          "output_type": "stream",
          "name": "stdout",
          "text": [
            "Please type in a number\n",
            "4\n",
            "Please type in second number\n",
            "9\n",
            "Please type in a third and final number\n",
            "7\n",
            "4 9 7\n",
            "Lets input this into the Quadratic Equation and see the results!\n",
            "The roots are\n",
            "(-1.125-0.6959705453537527j)\n",
            "(-1.125+0.6959705453537527j)\n"
          ]
        }
      ]
    },
    {
      "cell_type": "markdown",
      "metadata": {
        "id": "XClsd96sCH4d"
      },
      "source": [
        "# Problem 3\n",
        "\n",
        "Write a program to take three floating point numbers from the user and print the greatest number. For this problem, you should use if-else conditionals and not use any of the builtin functions."
      ]
    },
    {
      "cell_type": "code",
      "metadata": {
        "id": "WTCNQ0vhCXxp",
        "colab": {
          "base_uri": "https://localhost:8080/"
        },
        "outputId": "ba04e1d0-51bf-446f-e856-1f3ff913e919"
      },
      "source": [
        "# Your program goes here\n",
        "# taking three float inputs from user\n",
        "a, b, c = [int(x) for x in input(\"Hello User! Please enter 3 decimal values as prompted: \").split()]\n",
        "print(\"First Number is: \", a)\n",
        "print(\"Second Number is: \", b)\n",
        "print(\"Third Number is: \", c)\n",
        "print()\n",
        "\n",
        "if a >= b and a >= c :\n",
        "    print(\"\\n\" + str(a), \"is largest number\")\n",
        "\n",
        "elif b >= c :\n",
        "    print(\"\\n\" + str(b), \"is largest number\")\n",
        "\n",
        "else :\n",
        "    print(\"\\n\" + str(c), \"is largest number\")\n",
        "\n",
        "#alternatively if not using if and else statements you can use the code below:\n",
        "#list1 = [a,b,c]\n",
        "#print('The greatest number from your list is: ', max(list1))\n"
      ],
      "execution_count": 47,
      "outputs": [
        {
          "output_type": "stream",
          "name": "stdout",
          "text": [
            "Hello User! Please enter 3 decimal values as prompted: 89 5 24\n",
            "First Number is:  89\n",
            "Second Number is:  5\n",
            "Third Number is:  24\n",
            "\n",
            "\n",
            "89 is largest number\n"
          ]
        }
      ]
    },
    {
      "cell_type": "code",
      "source": [
        "#lets do this as actually instructed lol. Didn't notice it required if-else conditionals\n"
      ],
      "metadata": {
        "id": "fjhu83hdct6X"
      },
      "execution_count": null,
      "outputs": []
    },
    {
      "cell_type": "markdown",
      "metadata": {
        "id": "jTtX0Al_GpQt"
      },
      "source": [
        "#Problem 4 (Chapter 1A revision)\n",
        "\n",
        "Write a program which takes three numbers as input and then print out their average.\n",
        "This problem does not need an if-construct"
      ]
    },
    {
      "cell_type": "code",
      "metadata": {
        "id": "sggoickMGz3A",
        "colab": {
          "base_uri": "https://localhost:8080/"
        },
        "outputId": "265f5d75-6727-41bd-d23a-114b324bba14"
      },
      "source": [
        "# Your program goes here\n",
        "# taking three inputs from user and finding the average\n",
        "a, b, c = [int(x) for x in input(\"Hello User! Please enter 3 numbers: \").split()]\n",
        "print(\"First Number is: \", a)\n",
        "print(\"Second Number is: \", b)\n",
        "print(\"Third Number is: \", c)\n",
        "print()\n",
        "\n",
        "def Average(list1):\n",
        "    return sum(list1) / len(list1)\n",
        "list1 = [a,b,c]\n",
        "average = Average(list1)\n",
        "\n",
        "#print the average now\n",
        "print('The average of your list provided is ', round(average,2))"
      ],
      "execution_count": 29,
      "outputs": [
        {
          "output_type": "stream",
          "name": "stdout",
          "text": [
            "Hello User! Please enter 3 numbers: 8 7 9\n",
            "First Number is:  8\n",
            "Second Number is:  7\n",
            "Third Number is:  9\n",
            "\n",
            "The average of your list provided is  8.0\n"
          ]
        }
      ]
    },
    {
      "cell_type": "markdown",
      "metadata": {
        "id": "xLOfzH9uAmS2"
      },
      "source": [
        "#Problem 5\n",
        "\n",
        "Generate a random number between 10 and 20 and then ask the user to input a number between 10 and 20  \n",
        "\n",
        "If the user input matches the random number, print 'Bingo!' \n",
        "\n",
        "Else let the user know, how far away his input number is by printing how much is the difference with a positive or negative sign \n",
        "\n",
        "Hint: Check the ranint module in Modules page of Chapter 6"
      ]
    },
    {
      "cell_type": "code",
      "metadata": {
        "id": "oXfaGN4ZBWQG",
        "colab": {
          "base_uri": "https://localhost:8080/"
        },
        "outputId": "16c5f0c6-e3c8-4171-fb99-4ec9d4061d9a"
      },
      "source": [
        "# Your program goes here\n",
        "from random import randint \n",
        "random_number = randint(10, 20)\n",
        "\n",
        "random_guess = int(input('Hello Again User! Lets play a game! I am thinking of a number between 10 and 20. Guess the number: ' ))\n",
        "\n",
        "# ai is greater than user\n",
        "if random_number > random_guess:\n",
        "    diff = random_number - random_guess\n",
        "\n",
        "# ai is less than user\n",
        "else:\n",
        "    diff = random_guess - random_number\n",
        "\n",
        "if random_guess == random_number:\n",
        "  print('Bingo!')\n",
        "else:\n",
        "  print('You almost had it! off by: ', diff )\n",
        "  \n",
        "\n",
        "\n",
        "  #print('Wrong!')\n",
        "#print(random_number)"
      ],
      "execution_count": 56,
      "outputs": [
        {
          "output_type": "stream",
          "name": "stdout",
          "text": [
            "Hello Again User! Lets play a game! I am thinking of a number between 10 and 20. Guess the number: 14\n",
            "You almost had it! off by:  2\n"
          ]
        }
      ]
    }
  ]
}